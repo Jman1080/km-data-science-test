{
 "cells": [
  {
   "cell_type": "markdown",
   "metadata": {},
   "source": [
    "# Komodo data science practical test\n",
    "\n",
    "### Instructions\n",
    "\n",
    "Create a data pipeline to test the hypothesis that “Weather is a predictor of volume and/or duration of uber rides in New York”. Two datasets are provided to work with.\n",
    "\n",
    "#### Criteria:\n",
    "- Must use python (v2 or v3)\n",
    "- Must show all data processing steps\n",
    "- Must train at least one model\n",
    "- Must be able to assess the accuracy of the model\n",
    "- Should have appropriate documentation to explain and discuss steps and results\n",
    "- Should visualise information where appropriate\n",
    "\n",
    "#### Rules:\n",
    "- You have 24 hours to complete this task from now.\n",
    "- You will start with and complete all work inside this Jupyter notebook\n",
    "- Other than the requirements above, you are free to install and use any libraries you deem necessary\n",
    "- You will push your completed changes to bitbucket.org/repo (security?) within 24 hours.\n",
    "- Any changes pushed after this point will be ignored"
   ]
  },
  {
   "cell_type": "markdown",
   "metadata": {},
   "source": [
    "## Data\n",
    "\n",
    "You can download data for US weather and uber trips from the following URLs:\n",
    "\n",
    "Weather: \n",
    "- https://storage.googleapis.com/km-test-sources/weather.zip\n",
    "\n",
    "Trips\n",
    "- https://storage.googleapis.com/km-test-sources/uber.zip"
   ]
  }
 ],
 "metadata": {
  "kernelspec": {
   "display_name": "Python 3",
   "language": "python",
   "name": "python3"
  },
  "language_info": {
   "codemirror_mode": {
    "name": "ipython",
    "version": 3
   },
   "file_extension": ".py",
   "mimetype": "text/x-python",
   "name": "python",
   "nbconvert_exporter": "python",
   "pygments_lexer": "ipython3",
   "version": "3.7.4"
  }
 },
 "nbformat": 4,
 "nbformat_minor": 4
}
